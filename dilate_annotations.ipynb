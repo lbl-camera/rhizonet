{
 "cells": [
  {
   "cell_type": "code",
   "execution_count": 2,
   "id": "970dcce3-419c-4985-884e-47f25cee3f7b",
   "metadata": {
    "tags": []
   },
   "outputs": [],
   "source": [
    "import numpy as np\n",
    "from skimage.morphology import disk, dilation\n",
    "from skimage import io \n",
    "import os \n",
    "from PIL import Image\n",
    "from tqdm import tqdm"
   ]
  },
  {
   "cell_type": "code",
   "execution_count": 9,
   "id": "7597344b-49c5-4bc5-b054-b34000b69325",
   "metadata": {
    "tags": []
   },
   "outputs": [],
   "source": [
    "path_annots = \"/home/zsordo/rhizonet-fovea/data/labels\"\n",
    "lst_annots = os.listdir(path_annots)\n",
    "os.makedirs(\"/home/zsordo/rhizonet-fovea/data/labels_dilated\", exist_ok=True)\n"
   ]
  },
  {
   "cell_type": "code",
   "execution_count": 10,
   "id": "70da4b25-f8e6-4ba0-8201-b8bb42c46072",
   "metadata": {
    "tags": []
   },
   "outputs": [],
   "source": [
    "def createBinaryAnnotation(img):\n",
    "    '''Find all the annotations that are root, then NOT root, then combine'''\n",
    "    u = np.unique(img)\n",
    "    bkg = np.zeros(img.shape)  # background\n",
    "    frg = (img == u[1]).astype(int) * 255\n",
    "    return bkg + frg\n"
   ]
  },
  {
   "cell_type": "code",
   "execution_count": 11,
   "id": "4f239bff-351a-4cb1-8a8a-243a25d39e27",
   "metadata": {
    "tags": []
   },
   "outputs": [
    {
     "name": "stderr",
     "output_type": "stream",
     "text": [
      "100%|██████████| 23/23 [00:08<00:00,  2.83it/s]\n"
     ]
    }
   ],
   "source": [
    "for filename in tqdm(lst_annots):\n",
    "    \n",
    "    img = io.imread(os.path.join(path_annots, filename))\n",
    "    mask = createBinaryAnnotation(img.astype(np.uint8))\n",
    "    \n",
    "    dilated_img = dilation(mask, disk(2))\n",
    "    \n",
    "    # convert mask back to annotation\n",
    "    final_img = np.zeros_like(img)\n",
    "    final_img[dilated_img == 0] == 0\n",
    "    final_img[img == 170] = 170\n",
    "    final_img[dilated_img == 255] = 85\n",
    "    \n",
    "    image = Image.fromarray(final_img)\n",
    "\n",
    "    # Save the reduced image as PNG\n",
    "    save_path = \"/home/zsordo/rhizonet-fovea/data/labels_dilated\" + filename\n",
    "    image.save(save_path)"
   ]
  },
  {
   "cell_type": "code",
   "execution_count": null,
   "id": "f8f892c7-e3b6-447e-858d-3ad2d83463d6",
   "metadata": {},
   "outputs": [],
   "source": []
  }
 ],
 "metadata": {
  "kernelspec": {
   "display_name": "NERSC Python",
   "language": "python",
   "name": "python3"
  },
  "language_info": {
   "codemirror_mode": {
    "name": "ipython",
    "version": 3
   },
   "file_extension": ".py",
   "mimetype": "text/x-python",
   "name": "python",
   "nbconvert_exporter": "python",
   "pygments_lexer": "ipython3",
   "version": "3.11.7"
  }
 },
 "nbformat": 4,
 "nbformat_minor": 5
}
